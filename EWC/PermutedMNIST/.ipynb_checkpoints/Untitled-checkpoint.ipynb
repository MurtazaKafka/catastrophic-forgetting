{
 "cells": [
  {
   "cell_type": "code",
   "execution_count": 1,
   "id": "d2af4683",
   "metadata": {},
   "outputs": [],
   "source": [
    "import matplotlib.pyplot as plt\n",
    "\n",
    "import random\n",
    "import torch\n",
    "from torch import nn\n",
    "from torch.nn import functional as F\n",
    "from torch import optim\n",
    "from tqdm import tqdm\n",
    "\n",
    "from data import PermutedMNIST\n",
    "from utils import EWC, ewc_train, normal_train, test\n",
    "from EWCVisualizer import EWCVisualizer"
   ]
  },
  {
   "cell_type": "code",
   "execution_count": 2,
   "id": "19284e5e",
   "metadata": {},
   "outputs": [],
   "source": [
    "epochs = 50\n",
    "lr = 1e-3\n",
    "batch_size = 128\n",
    "sample_size = 200\n",
    "hidden_size = 200\n",
    "num_task = 3"
   ]
  },
  {
   "cell_type": "code",
   "execution_count": 3,
   "id": "ebb0987d",
   "metadata": {},
   "outputs": [],
   "source": [
    "class MLP(nn.Module):\n",
    "    def __init__(self, hidden_size=400):\n",
    "        super(MLP, self).__init__()\n",
    "        self.fc1 = nn.Linear(28 * 28, hidden_size)\n",
    "        self.fc2 = nn.Linear(hidden_size, hidden_size)\n",
    "        self.fc3 = nn.Linear(hidden_size, hidden_size)\n",
    "        self.fc4 = nn.Linear(hidden_size, 10)\n",
    "\n",
    "    def forward(self, input):\n",
    "        x = F.relu(self.fc1(input))\n",
    "        x = F.relu(self.fc2(x))\n",
    "        x = F.relu(self.fc3(x))\n",
    "        x = F.relu(self.fc4(x))\n",
    "        return x"
   ]
  },
  {
   "cell_type": "code",
   "execution_count": 4,
   "id": "434bf814",
   "metadata": {},
   "outputs": [],
   "source": [
    "def get_permute_mnist():\n",
    "    train_loader = {}\n",
    "    test_loader = {}\n",
    "    idx = list(range(28 * 28))\n",
    "    for i in range(num_task):\n",
    "        train_loader[i] = torch.utils.data.DataLoader(PermutedMNIST(train=True, permute_idx=idx),\n",
    "                                                      batch_size=batch_size,\n",
    "                                                      num_workers=4)\n",
    "        test_loader[i] = torch.utils.data.DataLoader(PermutedMNIST(train=False, permute_idx=idx),\n",
    "                                                     batch_size=batch_size)\n",
    "        random.shuffle(idx)\n",
    "    return train_loader, test_loader\n",
    "\n",
    "\n",
    "train_loader, test_loader = get_permute_mnist()"
   ]
  },
  {
   "cell_type": "code",
   "execution_count": 5,
   "id": "69e1d19a",
   "metadata": {},
   "outputs": [],
   "source": [
    "def standard_process(epochs, use_cuda=True, weight=True):\n",
    "    model = MLP(hidden_size)\n",
    "    if torch.cuda.is_available() and use_cuda:\n",
    "        model.cuda()\n",
    "    optimizer = optim.SGD(params=model.parameters(), lr=lr)\n",
    "\n",
    "    loss, acc = {}, {}\n",
    "    for task in range(num_task):\n",
    "        loss[task] = []\n",
    "        if task not in acc:\n",
    "            acc[task] = []\n",
    "        for _ in tqdm(range(epochs)):\n",
    "            loss[task].append(normal_train(model, optimizer, train_loader[task]))\n",
    "            for sub_task in range(task + 1):\n",
    "                if len(acc[sub_task]) < (task * epochs + epochs):\n",
    "                    acc[sub_task].append(test(model, test_loader[sub_task]))\n",
    "        if task == 0 and weight:\n",
    "            weight = model.state_dict()\n",
    "            \n",
    "    # Fill in missing values for tasks not yet trained\n",
    "    max_len = num_task * epochs\n",
    "    for task in range(num_task):\n",
    "        if len(acc[task]) < max_len:\n",
    "            acc[task].extend([acc[task][-1]] * (max_len - len(acc[task])))\n",
    "            \n",
    "    return loss, acc, weight\n",
    "\n",
    "def ewc_process(epochs, importance, use_cuda=True, weight=None):\n",
    "    model = MLP(hidden_size)\n",
    "    if torch.cuda.is_available() and use_cuda:\n",
    "        model.cuda()\n",
    "    optimizer = optim.SGD(params=model.parameters(), lr=lr)\n",
    "\n",
    "    loss, acc, ewc = {}, {}, {}\n",
    "    for task in range(num_task):\n",
    "        loss[task] = []\n",
    "        if task not in acc:\n",
    "            acc[task] = []\n",
    "\n",
    "        if task == 0:\n",
    "            if weight:\n",
    "                model.load_state_dict(weight)\n",
    "            else:\n",
    "                for _ in tqdm(range(epochs)):\n",
    "                    loss[task].append(normal_train(model, optimizer, train_loader[task]))\n",
    "                    acc[task].append(test(model, test_loader[task]))\n",
    "        else:\n",
    "            old_tasks = []\n",
    "            for sub_task in range(task):\n",
    "                old_tasks = old_tasks + train_loader[sub_task].dataset.get_sample(sample_size)\n",
    "            old_tasks = random.sample(old_tasks, k=sample_size)\n",
    "            for _ in tqdm(range(epochs)):\n",
    "                loss[task].append(ewc_train(model, optimizer, train_loader[task], EWC(model, old_tasks), importance))\n",
    "                for sub_task in range(task + 1):\n",
    "                    if len(acc[sub_task]) < (task * epochs + epochs):\n",
    "                        acc[sub_task].append(test(model, test_loader[sub_task]))\n",
    "                        \n",
    "    # Fill in missing values for tasks not yet trained\n",
    "    max_len = num_task * epochs\n",
    "    for task in range(num_task):\n",
    "        if len(acc[task]) < max_len:\n",
    "            acc[task].extend([acc[task][-1]] * (max_len - len(acc[task])))\n",
    "\n",
    "    return loss, acc"
   ]
  },
  {
   "cell_type": "code",
   "execution_count": null,
   "id": "f6ffa742",
   "metadata": {},
   "outputs": [],
   "source": [
    "model = MLP(hidden_size)\n",
    "if torch.cuda.is_available():\n",
    "    model.cuda()"
   ]
  },
  {
   "cell_type": "code",
   "execution_count": null,
   "id": "880faaa5",
   "metadata": {},
   "outputs": [],
   "source": [
    "vis = EWCVisualizer(model=model, \n",
    "                    train_loader=train_loader, \n",
    "                    test_loader=test_loader, \n",
    "                    num_tasks=num_task)"
   ]
  },
  {
   "cell_type": "code",
   "execution_count": 6,
   "id": "6206a3f2",
   "metadata": {},
   "outputs": [],
   "source": [
    "def loss_plot(x):\n",
    "    for t, v in x.items():\n",
    "        plt.plot(list(range(t * epochs, (t + 1) * epochs)), v)\n",
    "\n",
    "def accuracy_plot(x):\n",
    "    for t, v in x.items():\n",
    "        plt.plot(list(range(t * epochs, num_task * epochs)), v)\n",
    "    plt.ylim(0, 1)"
   ]
  },
  {
   "cell_type": "code",
   "execution_count": 7,
   "id": "b26599ff",
   "metadata": {},
   "outputs": [
    {
     "name": "stderr",
     "output_type": "stream",
     "text": [
      "100%|███████████████████████████████████████████| 50/50 [01:58<00:00,  2.36s/it]\n",
      "100%|███████████████████████████████████████████| 50/50 [02:01<00:00,  2.43s/it]\n",
      "100%|███████████████████████████████████████████| 50/50 [02:02<00:00,  2.45s/it]\n"
     ]
    }
   ],
   "source": [
    "loss, acc, weight = standard_process(epochs)"
   ]
  },
  {
   "cell_type": "code",
   "execution_count": 8,
   "id": "6f8942f0",
   "metadata": {
    "scrolled": true
   },
   "outputs": [
    {
     "name": "stderr",
     "output_type": "stream",
     "text": [
      "100%|███████████████████████████████████████████| 50/50 [01:55<00:00,  2.31s/it]\n",
      "100%|███████████████████████████████████████████| 50/50 [17:58<00:00, 21.56s/it]\n",
      "100%|███████████████████████████████████████████| 50/50 [02:25<00:00,  2.92s/it]\n"
     ]
    }
   ],
   "source": [
    "loss_ewc, acc_ewc = ewc_process(epochs, importance=1000)"
   ]
  },
  {
   "cell_type": "code",
   "execution_count": 11,
   "id": "307701d0",
   "metadata": {},
   "outputs": [
    {
     "ename": "TypeError",
     "evalue": "EWCVisualizer.__init__() missing 1 required positional argument: 'test_loader'",
     "output_type": "error",
     "traceback": [
      "\u001b[0;31m---------------------------------------------------------------------------\u001b[0m",
      "\u001b[0;31mTypeError\u001b[0m                                 Traceback (most recent call last)",
      "Cell \u001b[0;32mIn[11], line 1\u001b[0m\n\u001b[0;32m----> 1\u001b[0m plot \u001b[38;5;241m=\u001b[39m visualizer(train_loader, test_loader, num_tasks\u001b[38;5;241m=\u001b[39m\u001b[38;5;241m3\u001b[39m)\n",
      "\u001b[0;31mTypeError\u001b[0m: EWCVisualizer.__init__() missing 1 required positional argument: 'test_loader'"
     ]
    }
   ],
   "source": [
    "vis.plot_permuted_samples()"
   ]
  },
  {
   "cell_type": "code",
   "execution_count": 9,
   "id": "56b2af2e",
   "metadata": {},
   "outputs": [
    {
     "ename": "TypeError",
     "evalue": "EWCVisualizer.plot_accuracy_comparison() missing 1 required positional argument: 'ewc_acc'",
     "output_type": "error",
     "traceback": [
      "\u001b[0;31m---------------------------------------------------------------------------\u001b[0m",
      "\u001b[0;31mTypeError\u001b[0m                                 Traceback (most recent call last)",
      "Cell \u001b[0;32mIn[9], line 1\u001b[0m\n\u001b[0;32m----> 1\u001b[0m visualizer\u001b[38;5;241m.\u001b[39mplot_accuracy_comparison(acc, acc_ewc)\n",
      "\u001b[0;31mTypeError\u001b[0m: EWCVisualizer.plot_accuracy_comparison() missing 1 required positional argument: 'ewc_acc'"
     ]
    }
   ],
   "source": [
    "vis.plot_accuracy_comparison(standard_acc=acc, ewc_acc=acc_ewc)"
   ]
  },
  {
   "cell_type": "code",
   "execution_count": null,
   "id": "e55f7a79",
   "metadata": {},
   "outputs": [],
   "source": [
    "vis.plot_forgetting_analysis(standard_acc=acc, ewc_acc=acc_ewc)"
   ]
  }
 ],
 "metadata": {
  "kernelspec": {
   "display_name": "Python 3 (ipykernel)",
   "language": "python",
   "name": "python3"
  },
  "language_info": {
   "codemirror_mode": {
    "name": "ipython",
    "version": 3
   },
   "file_extension": ".py",
   "mimetype": "text/x-python",
   "name": "python",
   "nbconvert_exporter": "python",
   "pygments_lexer": "ipython3",
   "version": "3.11.5"
  }
 },
 "nbformat": 4,
 "nbformat_minor": 5
}
